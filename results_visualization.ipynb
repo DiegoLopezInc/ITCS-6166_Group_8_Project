{
 "cells": [
  {
   "cell_type": "code",
   "execution_count": null,
   "metadata": {
    "vscode": {
     "languageId": "plaintext"
    }
   },
   "outputs": [],
   "source": [
    "# import libraries\n",
    "import dotenv\n",
    "import os\n",
    "import pandas as pd\n",
    "from matplotlib import pyplot as plt\n",
    "import matplotlib.ticker as mticker\n",
    "import seaborn as sns\n",
    "import matplotlib.pyplot as plt\n",
    "\n",
    "# Set the style\n",
    "sns.set_theme(style=\"whitegrid\")\n",
    "\n",
    "# inline plots\n",
    "%matplotlib inline\n",
    "\n",
    "dotenv.load_dotenv()\n",
    "PROJECT_ROOT = os.getenv(\"PROJECT_ROOT\")\n",
    "\n",
    "RESULTS_DIR = os.path.join(PROJECT_ROOT, 'results')\n",
    "accepted_loans = pd.read_csv(RESULTS_DIR + '/basic_multicast_20250428-185732.csv', low_memory=False)\n",
    "\n",
    "print(accepted_loans.head())\n",
    "print(accepted_loans.shape)"
   ]
  }
 ],
 "metadata": {
  "language_info": {
   "name": "python"
  }
 },
 "nbformat": 4,
 "nbformat_minor": 2
}
